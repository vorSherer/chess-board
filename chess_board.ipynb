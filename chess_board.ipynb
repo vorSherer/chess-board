{
 "cells": [
  {
   "cell_type": "markdown",
   "metadata": {},
   "source": [
    "# Chessboard Demo Project"
   ]
  },
  {
   "cell_type": "markdown",
   "metadata": {},
   "source": [
    "Simulate a chessboard with a red and blue queen only, then use that to analyze when one queen has a clear line of attack on the other."
   ]
  },
  {
   "cell_type": "code",
   "execution_count": 1,
   "metadata": {},
   "outputs": [],
   "source": [
    "import numpy as np\n",
    "import matplotlib.pyplot as plt"
   ]
  },
  {
   "cell_type": "code",
   "execution_count": 2,
   "metadata": {
    "tags": []
   },
   "outputs": [
    {
     "output_type": "stream",
     "name": "stdout",
     "text": "[[ 0  1  2  3  4  5  6  7]\n [ 8  9 10 11 12 13 14 15]\n [16 17 18 19 20 21 22 23]\n [24 25 26 27 28 29 30 31]\n [32 33 34 35 36 37 38 39]\n [40 41 42 43 44 45 46 47]\n [48 49 50 51 52 53 54 55]\n [56 57 58 59 60 61 62 63]]\n"
    }
   ],
   "source": [
    "mtrx = np.arange(64).reshape(8,8)\n",
    "print(mtrx)"
   ]
  },
  {
   "cell_type": "code",
   "execution_count": null,
   "metadata": {},
   "outputs": [],
   "source": []
  }
 ],
 "metadata": {
  "kernelspec": {
   "display_name": "Python 3.8.2 64-bit ('chess-board-1p1KG23h-py3.8': venv)",
   "language": "python",
   "name": "python38264bitchessboard1p1kg23hpy38venv848ce4e52ed44ff99a2fbe128d70fae1"
  },
  "language_info": {
   "codemirror_mode": {
    "name": "ipython",
    "version": 3
   },
   "file_extension": ".py",
   "mimetype": "text/x-python",
   "name": "python",
   "nbconvert_exporter": "python",
   "pygments_lexer": "ipython3",
   "version": "3.8.2-final"
  }
 },
 "nbformat": 4,
 "nbformat_minor": 4
}